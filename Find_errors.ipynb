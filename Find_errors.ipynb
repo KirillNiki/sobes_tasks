{
  "cells": [
    {
      "cell_type": "code",
      "execution_count": 32,
      "metadata": {
        "id": "qj_nTH23qYWf"
      },
      "outputs": [],
      "source": [
        "# !pip install torchviz"
      ]
    },
    {
      "cell_type": "code",
      "execution_count": null,
      "metadata": {},
      "outputs": [],
      "source": [
        "# задача обучить модель распознавать картинки одежды \n",
        "# для этого ниже загружается датасет fashionmnist"
      ]
    },
    {
      "cell_type": "code",
      "execution_count": 33,
      "metadata": {
        "id": "cGbI46RX78DE"
      },
      "outputs": [],
      "source": [
        "import torch\n",
        "import torch.nn as nn\n",
        "from torch.utils.data import DataLoader, Dataset\n",
        "import torchvision\n",
        "import numpy as np\n",
        "from sklearn.model_selection import train_test_split\n",
        "import torchvision.transforms as transforms\n",
        "from tqdm import tqdm\n",
        "from torchviz import make_dot\n",
        "import matplotlib.pyplot as plt"
      ]
    },
    {
      "cell_type": "code",
      "execution_count": 34,
      "metadata": {
        "colab": {
          "base_uri": "https://localhost:8080/"
        },
        "id": "j8ZArIEV8U58",
        "outputId": "b7686adb-5373-43e7-bb41-b950513a4b4b"
      },
      "outputs": [],
      "source": [
        "transform = transforms.ToTensor()\n",
        "train_dataset = torchvision.datasets.FashionMNIST(root='./data', train=True, download=True, transform=transform)\n",
        "test_dataset = torchvision.datasets.FashionMNIST(root = \"./data\", train = False, download=True, transform=transform)"
      ]
    },
    {
      "cell_type": "code",
      "execution_count": 35,
      "metadata": {
        "id": "nabOH-LS79ij"
      },
      "outputs": [],
      "source": [
        "batch_size = 64\n",
        "train_loader = DataLoader(train_dataset, batch_size=batch_size, shuffle=False)\n",
        "test_loader = DataLoader(test_dataset, batch_size=batch_size, shuffle=False)"
      ]
    },
    {
      "cell_type": "code",
      "execution_count": 36,
      "metadata": {
        "colab": {
          "base_uri": "https://localhost:8080/"
        },
        "id": "6lNf98Dr-Wpi",
        "outputId": "a2ba0d63-df2f-4f73-e8ff-7b0990d964c3"
      },
      "outputs": [
        {
          "data": {
            "text/plain": [
              "(2, 2, torch.Size([64, 1, 28, 28]), torch.Size([64]))"
            ]
          },
          "execution_count": 36,
          "metadata": {},
          "output_type": "execute_result"
        }
      ],
      "source": [
        "train_item = next(iter(train_loader))\n",
        "test_item = next(iter(test_loader))\n",
        "len(train_item), len(test_item), train_item[0].shape, train_item[1].shape"
      ]
    },
    {
      "cell_type": "code",
      "execution_count": null,
      "metadata": {},
      "outputs": [],
      "source": [
        "# содается класс модели, слои, модель представляет собой полносвязную сеть\n",
        "# с добавлением dropout, normalization, которые нужны для предотвращения переобучения и\n",
        "# dropuot рандомно удаляет часть связей в слое, чтобы нейроны не изучали так называемый шум, не подстраивалсь друг под друга \n",
        "# batch normalization нормализует вход в слое, преобразует данные в диапазон со средним значение 0, отклонением 1, которые потом изменяются"
      ]
    },
    {
      "cell_type": "code",
      "execution_count": 37,
      "metadata": {
        "id": "Wv21tbtXmEbW"
      },
      "outputs": [],
      "source": [
        "class NNModel(nn.Module):\n",
        "    def __init__(self,\n",
        "                 layers_size = [784, 32, 16, 10], # <<------------------ 49 > 784  (1)\n",
        "                 dropout_prob = 1.0\n",
        "                 ):\n",
        "        super().__init__()\n",
        "        # self.conv = nn.Conv2d(1, 1, kernel_size = 1, stride = 4)\n",
        "        self.conv = nn.Conv2d(1, 1, kernel_size = 1, stride = 1)\n",
        "        #\n",
        "        \n",
        "        layers = [nn.Linear(layers_size[i], layers_size[i+1]) for i in range(len(layers_size)-1)]\n",
        "        norms = [nn.BatchNorm1d(inp_size, affine  = False) for inp_size in layers_size[1:-1]]\n",
        "        \n",
        "        self.layers = nn.ModuleList(layers) # <<--------------- (2)\n",
        "        self.norm = nn.ModuleList(norms) # <<--------------- (2)\n",
        "        self.relu = nn.ReLU()\n",
        "        self.dropout = nn.Dropout(p=dropout_prob)\n",
        "\n",
        "    def forward(self, batch):\n",
        "        bs = batch.shape[0]\n",
        "        batch = self.conv(batch).reshape(bs, -1)\n",
        "\n",
        "        for i, layer in enumerate(self.layers):\n",
        "            if i < len(self.layers) -1:\n",
        "                batch = self.dropout(self.relu(self.norm[i](layer(batch))))\n",
        "            else:\n",
        "                batch = layer(batch)\n",
        "        return batch\n",
        "\n",
        "    def print_net(self):\n",
        "        print(self.conv)\n",
        "        for i, layer in enumerate(self.layers):\n",
        "            if i < len(self.layers) -1:\n",
        "                print(layer)\n",
        "                print(self.norm[i])\n",
        "                print(self.relu)\n",
        "                print(self.dropout)\n",
        "            else:\n",
        "                print(layer)\n",
        "\n",
        "        return"
      ]
    },
    {
      "cell_type": "code",
      "execution_count": 38,
      "metadata": {},
      "outputs": [],
      "source": [
        "# 1. изменил размер входных данных с 49 на 784 т.к. после использования свертки с шагом 1 получаем размер 28*28 \n",
        "# 2. добавил modulelist т.к. torch сохраняет параметры модели в граф, если добавить слои в list они неправильно дабавятся в граф, это проводит у ошибке ниже\n",
        "# при добавлении параметров модели в оптимизатор их просто нет "
      ]
    },
    {
      "cell_type": "code",
      "execution_count": 39,
      "metadata": {
        "colab": {
          "base_uri": "https://localhost:8080/"
        },
        "id": "sD36MPJlp7m-",
        "outputId": "f8753f6a-cfcf-49df-b8fd-e1b4d8c9dd05"
      },
      "outputs": [
        {
          "name": "stdout",
          "output_type": "stream",
          "text": [
            "Conv2d(1, 1, kernel_size=(1, 1), stride=(1, 1))\n",
            "Linear(in_features=784, out_features=32, bias=True)\n",
            "BatchNorm1d(32, eps=1e-05, momentum=0.1, affine=False, track_running_stats=True)\n",
            "ReLU()\n",
            "Dropout(p=0.1, inplace=False)\n",
            "Linear(in_features=32, out_features=16, bias=True)\n",
            "BatchNorm1d(16, eps=1e-05, momentum=0.1, affine=False, track_running_stats=True)\n",
            "ReLU()\n",
            "Dropout(p=0.1, inplace=False)\n",
            "Linear(in_features=16, out_features=10, bias=True)\n"
          ]
        }
      ],
      "source": [
        "mlp  = NNModel(dropout_prob = 0.1)\n",
        "\n",
        "# predictions = mlp(train_item[0])\n",
        "# make_dot(predictions, params=dict(mlp.named_parameters()))\n",
        "mlp.print_net()"
      ]
    },
    {
      "cell_type": "code",
      "execution_count": null,
      "metadata": {},
      "outputs": [],
      "source": [
        "# обучение модели \n",
        "# по выходу сети и целевому значению считается ошибка \n",
        "# распростроняется по сети, затем изменяются параметры\n",
        "# модель тестируется"
      ]
    },
    {
      "cell_type": "code",
      "execution_count": 40,
      "metadata": {
        "colab": {
          "base_uri": "https://localhost:8080/",
          "height": 356
        },
        "id": "VtgLUBij7FGM",
        "outputId": "8b9e80e9-1688-4e53-9fdd-3dee69ec151c"
      },
      "outputs": [
        {
          "data": {
            "image/png": "[encoded data removed]",
            "text/plain": [
              "<Figure size 640x480 with 1 Axes>"
            ]
          },
          "metadata": {},
          "output_type": "display_data"
        }
      ],
      "source": [
        "num_epochs = 1000\n",
        "DEBUG = False\n",
        "ce_loss = nn.CrossEntropyLoss()\n",
        "optimizer = torch.optim.Adam(mlp.parameters(), lr =  0.01)\n",
        "\n",
        "logger = {'train':[],\n",
        "          'eval' :[]\n",
        "          }\n",
        "for epoch in range(num_epochs):\n",
        "\n",
        "    epoch_stat = []\n",
        "\n",
        "    # train part\n",
        "\n",
        "    mlp.train()\n",
        "    for batch in [train_item]: # для одного батча\n",
        "        optimizer.zero_grad() # <<--------------- (3)\n",
        "        \n",
        "        images, labels = batch\n",
        "        images, labels = images.float(), labels.long()\n",
        "        predictions = mlp(images)\n",
        "        loss = ce_loss(predictions, labels)\n",
        "        loss.backward()\n",
        "        optimizer.step()\n",
        "\n",
        "        epoch_stat.append(loss.item())\n",
        "\n",
        "    if DEBUG: print(f\"train loss value = {np.mean(epoch_stat)}\")\n",
        "    logger['train'].append(np.mean(epoch_stat))\n",
        "\n",
        "\n",
        "    # eval part\n",
        "    with torch.no_grad():\n",
        "\n",
        "        eval_stat = []\n",
        "        for batch in [train_item]:\n",
        "\n",
        "            images, labels = batch\n",
        "            images, labels = images.float(), labels.long()\n",
        "\n",
        "            predictions = mlp(images)\n",
        "            loss = ce_loss(predictions, labels)\n",
        "            # loss.backward() # <<--------------- (4)\n",
        "            # optimizer.step() # <<--------------- (4)\n",
        "\n",
        "            eval_stat.append(loss.item())\n",
        "    if DEBUG: print(f\"eval loss value = {np.mean(eval_stat)}\")\n",
        "    logger['eval'].append(np.mean(eval_stat))\n",
        "\n",
        "plt.plot(logger['train'], label='Train loss' )\n",
        "plt.plot(logger['eval'], label='Val loss')\n",
        "plt.legend()\n",
        "plt.show()"
      ]
    },
    {
      "cell_type": "code",
      "execution_count": 41,
      "metadata": {},
      "outputs": [],
      "source": [
        "# 3. нужно очищать градиенты в оптимизаторе при последующем их вычислении иначе они просто останутся там и наложатся на новые\n",
        "# 4. здесь мы тестируем модель, строчка \"with torch.no_grad():\" отключает вычисление градиентов, мы не можем оптимизировать параметры"
      ]
    },
    {
      "cell_type": "code",
      "execution_count": 42,
      "metadata": {
        "colab": {
          "base_uri": "https://localhost:8080/"
        },
        "id": "kR5E4dNasv-e",
        "outputId": "36bbc1e6-11f0-4117-dd44-b4e03403ad60"
      },
      "outputs": [
        {
          "data": {
            "text/plain": [
              "NNModel(\n",
              "  (conv): Conv2d(1, 1, kernel_size=(1, 1), stride=(1, 1))\n",
              "  (layers): ModuleList(\n",
              "    (0): Linear(in_features=784, out_features=32, bias=True)\n",
              "    (1): Linear(in_features=32, out_features=16, bias=True)\n",
              "    (2): Linear(in_features=16, out_features=10, bias=True)\n",
              "  )\n",
              "  (norm): ModuleList(\n",
              "    (0): BatchNorm1d(32, eps=1e-05, momentum=0.1, affine=False, track_running_stats=True)\n",
              "    (1): BatchNorm1d(16, eps=1e-05, momentum=0.1, affine=False, track_running_stats=True)\n",
              "  )\n",
              "  (relu): ReLU()\n",
              "  (dropout): Dropout(p=0.1, inplace=False)\n",
              ")"
            ]
          },
          "execution_count": 42,
          "metadata": {},
          "output_type": "execute_result"
        }
      ],
      "source": [
        "mlp"
      ]
    },
    {
      "cell_type": "code",
      "execution_count": 43,
      "metadata": {
        "id": "3SknE_w6rB83"
      },
      "outputs": [],
      "source": [
        "# pytorch_total_params = sum(p.numel() for p in mlp.parameters())\n",
        "# pytorch_total_params"
      ]
    }
  ],
  "metadata": {
    "colab": {
      "provenance": []
    },
    "kernelspec": {
      "display_name": "Python 3",
      "name": "python3"
    },
    "language_info": {
      "codemirror_mode": {
        "name": "ipython",
        "version": 3
      },
      "file_extension": ".py",
      "mimetype": "text/x-python",
      "name": "python",
      "nbconvert_exporter": "python",
      "pygments_lexer": "ipython3",
      "version": "3.10.12"
    }
  },
  "nbformat": 4,
  "nbformat_minor": 0
}
